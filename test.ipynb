{
 "cells": [
  {
   "cell_type": "markdown",
   "metadata": {},
   "source": [
    "# Image Deraining Project"
   ]
  },
  {
   "cell_type": "markdown",
   "metadata": {},
   "source": [
    "### Imports"
   ]
  },
  {
   "cell_type": "code",
   "execution_count": null,
   "metadata": {},
   "outputs": [],
   "source": [
    "import torch\n",
    "from PIL import Image\n",
    "from torchvision import transforms\n",
    "import matplotlib.pyplot as plt\n",
    "import numpy as np\n",
    "from models.prenet import PReNet, PReNet_r, PReDecoderNet, \\\n",
    "    PReLSTMNet, PReComboNet, PReHAYULANet, PReAENet, PReAEATNet\n",
    "\n",
    "DEVICE = torch.device(\n",
    "    'cuda') if torch.cuda.is_available() else torch.device('cpu')\n",
    "\n",
    "model_dir = 'trained_models/PRettentiveNet(AutoEncoderplus)/Low Data/best_model.pth'\n",
    "prenet_dir = 'trained_models/PReNet/Low Data/best_model.pth'\n",
    "img_dir = 'data/rain_streak/training/rainy_image/7_1.jpg'\n",
    "\n",
    "net = PReAEATNet(im_size=128).to(DEVICE)\n",
    "net_dict = torch.load(model_dir)\n",
    "print(sorted(net_dict['validation_losses'])[0])\n",
    "net.load_state_dict(net_dict['state_dict'])\n",
    "\n",
    "net1 = PReNet().to(DEVICE)\n",
    "net1_dict = torch.load(prenet_dir)\n",
    "print(sorted(net1_dict['validation_losses'])[0])\n",
    "\n",
    "\n",
    "img = Image.open(img_dir).convert('RGB')\n",
    "\n",
    "plt.figure()\n",
    "plt.imshow(img)\n",
    "\n",
    "transforms = transforms.Compose([\n",
    "            transforms.Resize(size=128),\n",
    "            transforms.CenterCrop([128, 128]), \n",
    "            transforms.ToTensor(),\n",
    "        ])\n",
    "\n",
    "img = transforms(img)\n",
    "img_in = img[None,:,:,:]\n",
    "net.eval()\n",
    "img_out = net(img_in.to(DEVICE))\n",
    "img = img.cpu().detach().numpy()\n",
    "img = np.moveaxis(img, 0,-1)\n",
    "plt.figure()\n",
    "plt.imshow(img)\n",
    "\n",
    "print(img_out.shape)\n",
    "img_out = torch.squeeze(img_out)\n",
    "img_out = img_out.cpu().detach().numpy()\n",
    "img_out = np.moveaxis(img_out, 0,-1)\n",
    "plt.figure()\n",
    "plt.imshow(img_out)"
   ]
  }
 ],
 "metadata": {
  "kernelspec": {
   "display_name": "Python 3",
   "language": "python",
   "name": "python3"
  },
  "language_info": {
   "codemirror_mode": {
    "name": "ipython",
    "version": 3
   },
   "file_extension": ".py",
   "mimetype": "text/x-python",
   "name": "python",
   "nbconvert_exporter": "python",
   "pygments_lexer": "ipython3",
   "version": "3.10.7"
  },
  "orig_nbformat": 4,
  "vscode": {
   "interpreter": {
    "hash": "cd441162cfa4fbe3f42d8dc0031d437f6b3f7c44e7fa92199c085a21942b641c"
   }
  }
 },
 "nbformat": 4,
 "nbformat_minor": 2
}
