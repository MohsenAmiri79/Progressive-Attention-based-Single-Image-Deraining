{
 "cells": [
  {
   "cell_type": "markdown",
   "metadata": {},
   "source": [
    "# Image Deraining Project"
   ]
  },
  {
   "cell_type": "markdown",
   "metadata": {},
   "source": [
    "### Imports"
   ]
  },
  {
   "cell_type": "code",
   "execution_count": null,
   "metadata": {},
   "outputs": [],
   "source": [
    "# !pip3 install torch torchvision --extra-index-url https://download.pytorch.org/whl/cu117\n",
    "# !pip3 install numpy scipy tqdm opencv-python pandas scikit-learn matplotlib lightning"
   ]
  },
  {
   "cell_type": "code",
   "execution_count": null,
   "metadata": {},
   "outputs": [],
   "source": [
    "# Python Packages\n",
    "from torch.utils.data import DataLoader\n",
    "\n",
    "import warnings\n",
    "import torch\n",
    "\n",
    "# Local Modules\n",
    "from utilities.utils import train_lightning, plot_loss\n",
    "from utilities.datasets import SID_dataset, SID_dataset_mini\n",
    "from models.prenet import PReAENetPL, PReDeconvNetPL\n"
   ]
  },
  {
   "cell_type": "code",
   "execution_count": null,
   "metadata": {},
   "outputs": [],
   "source": [
    "warnings.filterwarnings('ignore')\n",
    "torch.manual_seed(42)\n",
    "\n",
    "DEVICE = torch.device(\n",
    "    'cuda') if torch.cuda.is_available() else torch.device('cpu')\n",
    "\n",
    "\n",
    "IM_SIZE = 256"
   ]
  },
  {
   "cell_type": "code",
   "execution_count": null,
   "metadata": {},
   "outputs": [],
   "source": [
    "input_path = \"data/rain_streak/training/rainy_image/\"\n",
    "label_path = \"data/rain_streak/training/ground_truth/\"\n",
    "\n",
    "valid_input_path = \"data/rain_streak/validation/rainy_image/\"\n",
    "valid_label_path = \"data/rain_streak/validation/ground_truth/\"\n",
    "\n",
    "batch_size = 4\n",
    "\n",
    "dataset_train = SID_dataset_mini(input_path, label_path, IM_SIZE)\n",
    "dataset_valid = SID_dataset(valid_input_path, valid_label_path, IM_SIZE)\n",
    "train_loader = DataLoader(\n",
    "    dataset_train, batch_size=batch_size, shuffle=True, pin_memory=True)\n",
    "valid_loader = DataLoader(\n",
    "    dataset_valid, batch_size=batch_size, shuffle=True, pin_memory=True)\n"
   ]
  },
  {
   "cell_type": "code",
   "execution_count": null,
   "metadata": {},
   "outputs": [],
   "source": [
    "net1 = PReAENetPL(DEVICE)\n",
    "\n",
    "p_net1 = sum(p.numel() for p in net1.parameters())\n",
    "\n",
    "print(f'PRettentiveNet(PL):\\n\\t\\t\\t\\t{p_net1}', end='\\n\\n\\n')\n"
   ]
  },
  {
   "cell_type": "code",
   "execution_count": null,
   "metadata": {},
   "outputs": [],
   "source": [
    "model = [net1, 'PRettentiveNet(PL)']\n",
    "\n",
    "train_dict = {\n",
    "    'train_loader': train_loader,\n",
    "    'val_loader': valid_loader,\n",
    "    'epochs': 100\n",
    "}\n"
   ]
  },
  {
   "cell_type": "code",
   "execution_count": null,
   "metadata": {},
   "outputs": [],
   "source": [
    "print(f'Training {model[1]}')\n",
    "train_lightning(model[0], **train_dict)"
   ]
  },
  {
   "cell_type": "code",
   "execution_count": null,
   "metadata": {},
   "outputs": [],
   "source": [
    "torch.save(net1.state_dict(), 'saved1_state_AEATPL.pth')"
   ]
  }
 ],
 "metadata": {
  "kernelspec": {
   "display_name": "Python 3",
   "language": "python",
   "name": "python3"
  },
  "language_info": {
   "codemirror_mode": {
    "name": "ipython",
    "version": 3
   },
   "file_extension": ".py",
   "mimetype": "text/x-python",
   "name": "python",
   "nbconvert_exporter": "python",
   "pygments_lexer": "ipython3",
   "version": "3.10.7"
  },
  "orig_nbformat": 4,
  "vscode": {
   "interpreter": {
    "hash": "cd441162cfa4fbe3f42d8dc0031d437f6b3f7c44e7fa92199c085a21942b641c"
   }
  }
 },
 "nbformat": 4,
 "nbformat_minor": 2
}
