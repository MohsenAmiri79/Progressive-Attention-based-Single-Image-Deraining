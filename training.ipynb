{
 "cells": [
  {
   "cell_type": "markdown",
   "metadata": {},
   "source": [
    "# Image Deraining Project"
   ]
  },
  {
   "cell_type": "markdown",
   "metadata": {},
   "source": [
    "### Imports"
   ]
  },
  {
   "cell_type": "code",
   "execution_count": null,
   "metadata": {},
   "outputs": [],
   "source": [
    "# !pip3 install torch torchvision --extra-index-url https://download.pytorch.org/whl/cu117\n",
    "# !pip3 install numpy scipy tqdm opencv-python pandas scikit-learn matplotlib"
   ]
  },
  {
   "cell_type": "code",
   "execution_count": 1,
   "metadata": {},
   "outputs": [],
   "source": [
    "# Python Packages\n",
    "from torch.utils.data import DataLoader\n",
    "\n",
    "import warnings\n",
    "import torch\n",
    "import os\n",
    "\n",
    "# Local Modules\n",
    "from utilities.utils import train_model, plot_loss\n",
    "from utilities.datasets import SID_dataset, SID_dataset_mini\n",
    "from models.modules import PReNet, PReNet_r, PReDecoderNet, \\\n",
    "    PReLSTMNet, PReComboNet, PReHAYULANet, PReAENet, PReAEATNet, EnDecoNet\n"
   ]
  },
  {
   "cell_type": "code",
   "execution_count": null,
   "metadata": {},
   "outputs": [],
   "source": [
    "warnings.filterwarnings('ignore')\n",
    "torch.manual_seed(42)\n",
    "\n",
    "DEVICE = torch.device(\n",
    "    'cuda') if torch.cuda.is_available() else torch.device('cpu')\n",
    "\n",
    "\n",
    "IM_SIZE = 128"
   ]
  },
  {
   "cell_type": "code",
   "execution_count": null,
   "metadata": {},
   "outputs": [],
   "source": [
    "input_path = \"data/rain_streak/training/rainy_image/\"\n",
    "label_path = \"data/rain_streak/training/ground_truth/\"\n",
    "\n",
    "valid_input_path = \"data/rain_streak/validation/rainy_image/\"\n",
    "valid_label_path = \"data/rain_streak/validation/ground_truth/\"\n",
    "\n",
    "batch_size = 4\n",
    "\n",
    "dataset_train = SID_dataset_mini(input_path, label_path, IM_SIZE)\n",
    "dataset_valid = SID_dataset(valid_input_path, valid_label_path, IM_SIZE)\n",
    "train_loader = DataLoader(\n",
    "    dataset_train, batch_size=batch_size, shuffle=True, pin_memory=True)\n",
    "valid_loader = DataLoader(\n",
    "    dataset_valid, batch_size=batch_size, shuffle=True, pin_memory=True)\n"
   ]
  },
  {
   "cell_type": "code",
   "execution_count": null,
   "metadata": {},
   "outputs": [],
   "source": [
    "net1 = PReDecoderNet().to(DEVICE)\n",
    "net2 = PReLSTMNet().to(DEVICE)\n",
    "net3 = PReComboNet().to(DEVICE)\n",
    "net4 = PReHAYULANet().to(DEVICE)\n",
    "net5 = PReAENet(im_size=IM_SIZE).to(DEVICE)\n",
    "net6 = PReAEATNet(im_size=IM_SIZE).to(DEVICE)\n",
    "net7 = EnDecoNet().to(DEVICE)\n",
    "net8 = PReNet().to(DEVICE)\n",
    "net9 = PReNet_r().to(DEVICE)\n",
    "\n",
    "p_net1 = sum(p.numel() for p in net1.parameters())\n",
    "p_net2 = sum(p.numel() for p in net2.parameters())\n",
    "p_net3 = sum(p.numel() for p in net3.parameters())\n",
    "p_net4 = sum(p.numel() for p in net4.parameters())\n",
    "p_net5 = sum(p.numel() for p in net5.parameters())\n",
    "p_net6 = sum(p.numel() for p in net6.parameters())\n",
    "p_net7 = sum(p.numel() for p in net7.parameters())\n",
    "p_net8 = sum(p.numel() for p in net8.parameters())\n",
    "p_net9 = sum(p.numel() for p in net9.parameters())\n",
    "\n",
    "print(f'PRettentiveNet(Deconv):\\n\\t\\t\\t\\t{p_net1}', end='\\n\\n\\n')\n",
    "print(f'PRettentiveNet(multi-LSTM):\\n\\t\\t\\t\\t{p_net2}', end='\\n\\n\\n')\n",
    "print(f'PRettentiveNet(combo):\\n\\t\\t\\t\\t{p_net3}', end='\\n\\n\\n')\n",
    "print(f'PRettentiveNet(HAYULA):\\n\\t\\t\\t\\t{p_net4}', end='\\n\\n\\n')\n",
    "print(f'PReAENet:\\n\\t\\t\\t\\t{p_net5}', end='\\n\\n\\n')\n",
    "print(f'PReAEATNet:\\n\\t\\t\\t\\t{p_net6}', end='\\n\\n\\n')\n",
    "print(f'EnDecoNet:\\n\\t\\t\\t\\t{p_net7}', end='\\n\\n\\n')\n",
    "print(f'PReNet:\\n\\t\\t\\t\\t{p_net8}', end='\\n\\n\\n')\n",
    "print(f'PReNet_r:\\n\\t\\t\\t\\t{p_net9}', end='\\n\\n\\n')\n"
   ]
  },
  {
   "cell_type": "code",
   "execution_count": null,
   "metadata": {},
   "outputs": [],
   "source": [
    "models = [\n",
    "    # [net9, 'PReNet_r'],\n",
    "    # [net8, 'PReNet'],\n",
    "    # [net5, 'PRettentiveNet(AutoEncoder)'],\n",
    "    # [net6, 'PRettentiveNet(AutoEncoderplus)'],\n",
    "    [net7, 'EnDecoNet'],\n",
    "    # [net1, 'PRettentiveNet(DECONV)'],\n",
    "    # [net2, 'PRettentiveNet(MULTI-LSTM)'],\n",
    "    # [net3, 'PRettentiveNet(COMBO)'],\n",
    "    # [net4, 'PRettentiveNet(HAYULA)'],\n",
    "]\n",
    "\n",
    "train_dict = {\n",
    "    'train_loader': train_loader,\n",
    "    'valid_loader': valid_loader,\n",
    "    'device': DEVICE,\n",
    "    'epoch': 100\n",
    "}\n"
   ]
  },
  {
   "cell_type": "code",
   "execution_count": null,
   "metadata": {},
   "outputs": [],
   "source": [
    "results = []\n",
    "for i, model in enumerate(models):\n",
    "    if not os.path.isdir(f'trained_models/{model[1]}'):\n",
    "        os.mkdir(f'trained_models/{model[1]}')\n",
    "    if not os.path.isdir(f'trained_models/{model[1]}/Low Data'):\n",
    "        os.mkdir(f'trained_models/{model[1]}/Low Data')\n",
    "    print(f'Training {model[1]}')\n",
    "    result = train_model(model, **train_dict)\n",
    "    result = [result, model[1]]\n",
    "    results.append(result)\n"
   ]
  },
  {
   "cell_type": "code",
   "execution_count": null,
   "metadata": {},
   "outputs": [],
   "source": [
    "for result in results:\n",
    "    print(result[1])\n",
    "    plot_loss(**result[0])\n"
   ]
  },
  {
   "cell_type": "code",
   "execution_count": null,
   "metadata": {},
   "outputs": [],
   "source": [
    "import os\n",
    "if not os.path.isdir('mamad'):\n",
    "    os.mkdir('mamad')\n",
    "if not os.path.isdir('mamad/mamads'):\n",
    "    os.mkdir('mamad/mamads')"
   ]
  }
 ],
 "metadata": {
  "kernelspec": {
   "display_name": "Python 3",
   "language": "python",
   "name": "python3"
  },
  "language_info": {
   "codemirror_mode": {
    "name": "ipython",
    "version": 3
   },
   "file_extension": ".py",
   "mimetype": "text/x-python",
   "name": "python",
   "nbconvert_exporter": "python",
   "pygments_lexer": "ipython3",
   "version": "3.10.7"
  },
  "orig_nbformat": 4,
  "vscode": {
   "interpreter": {
    "hash": "cd441162cfa4fbe3f42d8dc0031d437f6b3f7c44e7fa92199c085a21942b641c"
   }
  }
 },
 "nbformat": 4,
 "nbformat_minor": 2
}
